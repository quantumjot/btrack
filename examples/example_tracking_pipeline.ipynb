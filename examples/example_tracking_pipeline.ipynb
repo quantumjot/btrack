{
 "cells": [
  {
   "cell_type": "markdown",
   "id": "d4937900",
   "metadata": {},
   "source": [
    "# Example of using btrack to track cells in timelapse microscopy data\n",
    "\n",
    "This notebook covers the following functionality:\n",
    "\n",
    "* Load segmentation data and localize objects\n",
    "* Load a table of localized objects \n",
    "* Run tracking algorithm\n",
    "* Inspect the output\n",
    "* Visualize the results in napari\n",
    "\n",
    "In addition, we have an extensive tutorial of the cell tracking application as part of *napari*:  \n",
    "\n",
    "https://napari.org/tutorials/tracking/cell_tracking.html"
   ]
  },
  {
   "cell_type": "markdown",
   "id": "f9d1d59c",
   "metadata": {},
   "source": [
    "## Importing btrack and loading example datasets"
   ]
  },
  {
   "cell_type": "code",
   "execution_count": 1,
   "id": "7adac478",
   "metadata": {},
   "outputs": [],
   "source": [
    "import btrack\n",
    "\n",
    "from btrack import datasets"
   ]
  },
  {
   "cell_type": "markdown",
   "id": "9161ac00",
   "metadata": {},
   "source": [
    "We can automatically download some example data to play with:"
   ]
  },
  {
   "cell_type": "code",
   "execution_count": 2,
   "id": "4dd5ebbf",
   "metadata": {},
   "outputs": [],
   "source": [
    "CONFIG_FILE = datasets.cell_config()\n",
    "SEGMENTATION_FILE = datasets.example_segmentation_file()\n",
    "OBJECTS_FILE = datasets.example_track_objects_file()"
   ]
  },
  {
   "cell_type": "markdown",
   "id": "5b71ab0e",
   "metadata": {},
   "source": [
    "## Finding objects to track"
   ]
  },
  {
   "cell_type": "markdown",
   "id": "39b8c346",
   "metadata": {},
   "source": [
    "### Use case 1 - Objects from segmentation\n",
    "\n",
    "These could be objects found using algorithms such as a UNet, *CellPose* or *StarDist*. We can use `scikit-image` to load the segmentation data, which returns a numpy array of dimensions (T, Y, X)."
   ]
  },
  {
   "cell_type": "code",
   "execution_count": 3,
   "id": "67d45e67",
   "metadata": {},
   "outputs": [],
   "source": [
    "import matplotlib.pyplot as plt\n",
    "from skimage.io import imread"
   ]
  },
  {
   "cell_type": "code",
   "execution_count": 4,
   "id": "6aa4e90b",
   "metadata": {},
   "outputs": [],
   "source": [
    "segmentation = imread(SEGMENTATION_FILE)"
   ]
  },
  {
   "cell_type": "code",
   "execution_count": 5,
   "id": "130c150f",
   "metadata": {},
   "outputs": [
    {
     "data": {
      "text/plain": [
       "(500, 1200, 1600)"
      ]
     },
     "execution_count": 5,
     "metadata": {},
     "output_type": "execute_result"
    }
   ],
   "source": [
    "segmentation.shape"
   ]
  },
  {
   "cell_type": "code",
   "execution_count": 6,
   "id": "3311b5c9",
   "metadata": {},
   "outputs": [
    {
     "data": {
      "text/plain": [
       "<matplotlib.image.AxesImage at 0x15ce24ca0>"
      ]
     },
     "execution_count": 6,
     "metadata": {},
     "output_type": "execute_result"
    },
    {
     "data": {
      "image/png": "[encoded data removed]",
      "text/plain": [
       "<Figure size 432x288 with 1 Axes>"
      ]
     },
     "metadata": {
      "needs_background": "light"
     },
     "output_type": "display_data"
    }
   ],
   "source": [
    "plt.imshow(segmentation[0, ...])"
   ]
  },
  {
   "cell_type": "markdown",
   "id": "95b699f8",
   "metadata": {},
   "source": [
    "### localize the objects\n",
    "\n",
    "Now we use a utility function to localise the objects in the segmentation. Note that we can also use scikit-image `regionprops` to calculate properties for each object, using the `properties` keyword:"
   ]
  },
  {
   "cell_type": "code",
   "execution_count": 7,
   "id": "79c88726",
   "metadata": {},
   "outputs": [
    {
     "name": "stderr",
     "output_type": "stream",
     "text": [
      "[INFO][2022/05/17 07:06:25 PM] Localizing objects from segmentation...\n",
      "[INFO][2022/05/17 07:06:41 PM] Objects are of type: <class 'dict'>\n",
      "[INFO][2022/05/17 07:06:41 PM] ...Found 52890 objects in 500 frames.\n"
     ]
    }
   ],
   "source": [
    "FEATURES = [\"area\", \"major_axis_length\", \"minor_axis_length\", \"orientation\"]\n",
    "\n",
    "objects = btrack.utils.segmentation_to_objects(\n",
    "    segmentation, \n",
    "    properties=tuple(FEATURES), \n",
    ")"
   ]
  },
  {
   "cell_type": "markdown",
   "id": "e7c4ff55",
   "metadata": {},
   "source": [
    "We can also inspect each returned object to determine it's properties:"
   ]
  },
  {
   "cell_type": "code",
   "execution_count": 8,
   "id": "370348e3",
   "metadata": {},
   "outputs": [
    {
     "data": {
      "text/html": [
       "<table border=\"1\" class=\"dataframe\">\n",
       "  <thead>\n",
       "    <tr style=\"text-align: right;\">\n",
       "      <th></th>\n",
       "      <th>ID</th>\n",
       "      <th>x</th>\n",
       "      <th>y</th>\n",
       "      <th>z</th>\n",
       "      <th>t</th>\n",
       "      <th>dummy</th>\n",
       "      <th>states</th>\n",
       "      <th>label</th>\n",
       "      <th>n_features</th>\n",
       "      <th>area</th>\n",
       "      <th>major_axis_length</th>\n",
       "      <th>minor_axis_length</th>\n",
       "      <th>orientation</th>\n",
       "    </tr>\n",
       "  </thead>\n",
       "  <tbody>\n",
       "    <tr>\n",
       "      <th>0</th>\n",
       "      <td>0</td>\n",
       "      <td>517.573657</td>\n",
       "      <td>9.07279</td>\n",
       "      <td>0.0</td>\n",
       "      <td>0</td>\n",
       "      <td>False</td>\n",
       "      <td>7</td>\n",
       "      <td>5</td>\n",
       "      <td>0</td>\n",
       "      <td>577</td>\n",
       "      <td>33.260603</td>\n",
       "      <td>22.856213</td>\n",
       "      <td>1.455708</td>\n",
       "    </tr>\n",
       "  </tbody>\n",
       "</table>"
      ],
      "text/plain": [
       "{'ID': 0, 'x': 517.5736568457539, 'y': 9.072790294627383, 'z': 0.0, 't': 0, 'dummy': False, 'states': 7, 'label': 5, 'n_features': 0, 'area': 577, 'major_axis_length': 33.26060270196957, 'minor_axis_length': 22.856213196295688, 'orientation': 1.4557077137732317}"
      ]
     },
     "execution_count": 8,
     "metadata": {},
     "output_type": "execute_result"
    }
   ],
   "source": [
    "objects[0]"
   ]
  },
  {
   "cell_type": "markdown",
   "id": "2bc3a597",
   "metadata": {},
   "source": [
    "### Use case 2 - from a table of objects\n",
    "\n",
    "We can also load objects from a simple CSV file, that may contain additional information such as a state label."
   ]
  },
  {
   "cell_type": "code",
   "execution_count": 9,
   "id": "11069d7b",
   "metadata": {},
   "outputs": [],
   "source": [
    "# objects = btrack.dataio.import_CSV(OBJECTS_FILE)"
   ]
  },
  {
   "cell_type": "code",
   "execution_count": 10,
   "id": "fa735c15",
   "metadata": {},
   "outputs": [],
   "source": [
    "# objects[0]"
   ]
  },
  {
   "cell_type": "code",
   "execution_count": 11,
   "id": "70127515",
   "metadata": {},
   "outputs": [],
   "source": [
    "def normalize_properties(obj):\n",
    "    stats = {k: [] for k in obj[0].properties.keys()}\n",
    "    for o in obj:\n",
    "        for k in o.properties.keys():\n",
    "            if not stats[k]:\n",
    "                stats[k] = [o.properties[k], o.properties[k]]\n",
    "            else:\n",
    "                stats[k] = [min(stats[k][0], o.properties[k]), max(stats[k][1], o.properties[k])]\n",
    "                \n",
    "    for o in obj:\n",
    "        to_update = {}\n",
    "        for k in o.properties.keys():\n",
    "            to_update[k] = (o.properties[k] - stats[k][0]) / (stats[k][1] - stats[k][0])\n",
    "        o.properties = to_update\n",
    "    return stats"
   ]
  },
  {
   "cell_type": "code",
   "execution_count": 12,
   "id": "409afbae",
   "metadata": {},
   "outputs": [],
   "source": [
    "# stats = normalize_properties(objects)"
   ]
  },
  {
   "cell_type": "code",
   "execution_count": 13,
   "id": "e8017935",
   "metadata": {},
   "outputs": [
    {
     "data": {
      "text/html": [
       "<table border=\"1\" class=\"dataframe\">\n",
       "  <thead>\n",
       "    <tr style=\"text-align: right;\">\n",
       "      <th></th>\n",
       "      <th>ID</th>\n",
       "      <th>x</th>\n",
       "      <th>y</th>\n",
       "      <th>z</th>\n",
       "      <th>t</th>\n",
       "      <th>dummy</th>\n",
       "      <th>states</th>\n",
       "      <th>label</th>\n",
       "      <th>n_features</th>\n",
       "      <th>area</th>\n",
       "      <th>major_axis_length</th>\n",
       "      <th>minor_axis_length</th>\n",
       "      <th>orientation</th>\n",
       "    </tr>\n",
       "  </thead>\n",
       "  <tbody>\n",
       "    <tr>\n",
       "      <th>0</th>\n",
       "      <td>0</td>\n",
       "      <td>517.573657</td>\n",
       "      <td>9.07279</td>\n",
       "      <td>0.0</td>\n",
       "      <td>0</td>\n",
       "      <td>False</td>\n",
       "      <td>7</td>\n",
       "      <td>5</td>\n",
       "      <td>0</td>\n",
       "      <td>577</td>\n",
       "      <td>33.260603</td>\n",
       "      <td>22.856213</td>\n",
       "      <td>1.455708</td>\n",
       "    </tr>\n",
       "  </tbody>\n",
       "</table>"
      ],
      "text/plain": [
       "{'ID': 0, 'x': 517.5736568457539, 'y': 9.072790294627383, 'z': 0.0, 't': 0, 'dummy': False, 'states': 7, 'label': 5, 'n_features': 0, 'area': 577, 'major_axis_length': 33.26060270196957, 'minor_axis_length': 22.856213196295688, 'orientation': 1.4557077137732317}"
      ]
     },
     "execution_count": 13,
     "metadata": {},
     "output_type": "execute_result"
    }
   ],
   "source": [
    "objects[0]"
   ]
  },
  {
   "cell_type": "code",
   "execution_count": 14,
   "id": "4eadc1d3",
   "metadata": {},
   "outputs": [],
   "source": [
    "# stats"
   ]
  },
  {
   "cell_type": "markdown",
   "id": "f3bf586c",
   "metadata": {},
   "source": [
    "## Running the tracking"
   ]
  },
  {
   "cell_type": "code",
   "execution_count": 21,
   "id": "c4671636",
   "metadata": {},
   "outputs": [
    {
     "name": "stderr",
     "output_type": "stream",
     "text": [
      "[INFO][2022/05/17 07:07:46 pm] Loaded btrack: /Users/arl/Dropbox/Code/py3/BayesianTracker/btrack/libs/libtracker.dylib\n",
      "[INFO][2022/05/17 07:07:46 pm] btrack (v0.4.3) library imported\n",
      "[INFO][2022/05/17 07:07:46 pm] Starting BayesianTracker session\n",
      "[INFO][2022/05/17 07:07:46 pm] Loading configuration file: /Users/arl/Library/Caches/btrack-examples/examples/cell_config.json\n",
      "[INFO][2022/05/17 07:07:46 pm] Setting max_search_radius -> 50\n",
      "[INFO][2022/05/17 07:07:46 pm] Setting features -> ['area', 'major_axis_length', 'minor_axis_length', 'orientation']\n",
      "[INFO][2022/05/17 07:07:46 pm] Objects are of type: <class 'list'>\n",
      "[INFO][2022/05/17 07:07:47 pm] Setting volume -> ((0, 1600), (0, 1200))\n",
      "[INFO][2022/05/17 07:07:47 pm] Starting tracking... \n",
      "[INFO][2022/05/17 07:07:47 pm] Tracking objects in frames 0 to 99 (of 500)...\n",
      "[INFO][2022/05/17 07:07:47 pm]  - Timing (Bayesian updates: 0.29ms, Linking: 0.16ms)\n",
      "[INFO][2022/05/17 07:07:47 pm]  - Probabilities (Link: 1.00000, Lost: 1.00000)\n",
      "[INFO][2022/05/17 07:07:47 pm]  - Stats (Active: 78, Lost: 24, Conflicts resolved: 102)\n",
      "[INFO][2022/05/17 07:07:47 pm] Tracking objects in frames 100 to 199 (of 500)...\n",
      "[INFO][2022/05/17 07:07:47 pm]  - Timing (Bayesian updates: 0.35ms, Linking: 0.17ms)\n",
      "[INFO][2022/05/17 07:07:47 pm]  - Probabilities (Link: 1.00000, Lost: 0.92866)\n",
      "[INFO][2022/05/17 07:07:47 pm]  - Stats (Active: 82, Lost: 41, Conflicts resolved: 187)\n",
      "[INFO][2022/05/17 07:07:47 pm] Tracking objects in frames 200 to 299 (of 500)...\n",
      "[INFO][2022/05/17 07:07:48 pm]  - Timing (Bayesian updates: 0.73ms, Linking: 0.24ms)\n",
      "[INFO][2022/05/17 07:07:48 pm]  - Probabilities (Link: 1.00000, Lost: 0.97163)\n",
      "[INFO][2022/05/17 07:07:48 pm]  - Stats (Active: 110, Lost: 57, Conflicts resolved: 269)\n",
      "[INFO][2022/05/17 07:07:48 pm] Tracking objects in frames 300 to 399 (of 500)...\n",
      "[INFO][2022/05/17 07:07:48 pm]  - Timing (Bayesian updates: 1.34ms, Linking: 0.33ms)\n",
      "[INFO][2022/05/17 07:07:48 pm]  - Probabilities (Link: 1.00000, Lost: 1.00000)\n",
      "[INFO][2022/05/17 07:07:48 pm]  - Stats (Active: 141, Lost: 118, Conflicts resolved: 508)\n",
      "[INFO][2022/05/17 07:07:48 pm] Tracking objects in frames 400 to 499 (of 500)...\n",
      "[INFO][2022/05/17 07:07:49 pm]  - Timing (Bayesian updates: 2.83ms, Linking: 0.44ms)\n",
      "[INFO][2022/05/17 07:07:49 pm]  - Probabilities (Link: 1.00000, Lost: 1.00000)\n",
      "[INFO][2022/05/17 07:07:49 pm] SUCCESS.\n",
      "[INFO][2022/05/17 07:07:49 pm]  - Found 337 tracks in 500 frames (in 0.0s)\n",
      "[INFO][2022/05/17 07:07:50 pm]  - Inserted 115 dummy objects to fill tracking gaps\n",
      "[INFO][2022/05/17 07:07:50 pm] Loading hypothesis model: cell_hypothesis\n",
      "[INFO][2022/05/17 07:07:50 pm] Calculating hypotheses (relax: False)...\n",
      "[INFO][2022/05/17 07:07:50 pm] Setting up constraints matrix for global optimisation...\n",
      "[INFO][2022/05/17 07:07:50 pm] Using GLPK options: {'tm_lim': 60000}...\n",
      "[INFO][2022/05/17 07:07:50 pm] Optimizing...\n",
      "[INFO][2022/05/17 07:07:50 pm] Optimization complete. (Solution: optimal)\n",
      "[INFO][2022/05/17 07:07:50 pm]  - Fates.FALSE_POSITIVE: 169 (of 337)\n",
      "[INFO][2022/05/17 07:07:50 pm]  - Fates.LINK: 18 (of 89)\n",
      "[INFO][2022/05/17 07:07:50 pm]  - Fates.DIVIDE: 19 (of 26)\n",
      "[INFO][2022/05/17 07:07:50 pm]  - Fates.INITIALIZE_BORDER: 49 (of 57)\n",
      "[INFO][2022/05/17 07:07:50 pm]  - Fates.INITIALIZE_FRONT: 63 (of 71)\n",
      "[INFO][2022/05/17 07:07:50 pm]  - Fates.TERMINATE_BORDER: 40 (of 51)\n",
      "[INFO][2022/05/17 07:07:50 pm]  - Fates.TERMINATE_BACK: 91 (of 187)\n",
      "[INFO][2022/05/17 07:07:50 pm]  - TOTAL: 818 hypotheses\n",
      "[INFO][2022/05/17 07:07:50 pm] Completed optimization with 319 tracks\n",
      "[INFO][2022/05/17 07:07:50 pm] Ending BayesianTracker session\n"
     ]
    },
    {
     "name": "stdout",
     "output_type": "stream",
     "text": [
      "GLPK Integer Optimizer, v4.65\n",
      "1348 rows, 818 columns, 1296 non-zeros\n",
      "818 integer variables, all of which are binary\n",
      "Preprocessing...\n",
      "342 rows, 515 columns, 788 non-zeros\n",
      "515 integer variables, all of which are binary\n",
      "Scaling...\n",
      " A: min|aij| =  1.000e+00  max|aij| =  1.000e+00  ratio =  1.000e+00\n",
      "Problem data seem to be well scaled\n",
      "Constructing initial basis...\n",
      "Size of triangular part is 342\n",
      "Solving LP relaxation...\n",
      "GLPK Simplex Optimizer, v4.65\n",
      "342 rows, 515 columns, 788 non-zeros\n",
      "*     0: obj =   4.497748386e+04 inf =   0.000e+00 (43)\n",
      "*    41: obj =   3.691042381e+04 inf =   0.000e+00 (0)\n",
      "OPTIMAL LP SOLUTION FOUND\n",
      "Integer optimization begins...\n",
      "Long-step dual simplex will be used\n",
      "+    41: mip =     not found yet >=              -inf        (1; 0)\n",
      "+    41: >>>>>   3.691042381e+04 >=   3.691042381e+04   0.0% (1; 0)\n",
      "+    41: mip =   3.691042381e+04 >=     tree is empty   0.0% (0; 1)\n",
      "INTEGER OPTIMAL SOLUTION FOUND\n"
     ]
    }
   ],
   "source": [
    "# initialise a tracker session using a context manager\n",
    "with btrack.BayesianTracker() as tracker:\n",
    "\n",
    "    # configure the tracker using a config file\n",
    "    tracker.configure_from_file(CONFIG_FILE)\n",
    "    tracker.verbose = True\n",
    "    tracker.max_search_radius = 50\n",
    "    tracker.features = FEATURES\n",
    "\n",
    "    # append the objects to be tracked\n",
    "    tracker.append(objects)\n",
    "\n",
    "    # set the tracking volume\n",
    "    tracker.volume=((0, 1600), (0, 1200))\n",
    "\n",
    "    # track them (in interactive mode)\n",
    "    tracker.track_interactive(step_size=100)\n",
    "\n",
    "    # generate hypotheses and run the global optimizer\n",
    "    tracker.optimize()\n",
    "\n",
    "    # get the tracks in a format for napari visualization\n",
    "    data, properties, graph = tracker.to_napari()\n",
    "    \n",
    "    # store the tracks\n",
    "    tracks = tracker.tracks\n",
    "    \n",
    "    # store the configuration\n",
    "    cfg = tracker.configuration\n",
    "    \n",
    "    # export the track data \n",
    "#     tracker.export(\"tracks.h5\", obj_type=\"obj_type_1\")\n",
    "    "
   ]
  },
  {
   "cell_type": "markdown",
   "id": "22dbbc90",
   "metadata": {},
   "source": [
    "## Inspecting the output"
   ]
  },
  {
   "cell_type": "markdown",
   "id": "c82f2530",
   "metadata": {},
   "source": [
    "We can also inspect each returned track to determine it's properties:"
   ]
  },
  {
   "cell_type": "code",
   "execution_count": 16,
   "id": "fdd05a73",
   "metadata": {},
   "outputs": [
    {
     "data": {
      "text/html": [
       "<table border=\"1\" class=\"dataframe\">\n",
       "  <thead>\n",
       "    <tr style=\"text-align: right;\">\n",
       "      <th></th>\n",
       "      <th>ID</th>\n",
       "      <th>t</th>\n",
       "      <th>x</th>\n",
       "      <th>y</th>\n",
       "      <th>z</th>\n",
       "      <th>parent</th>\n",
       "      <th>root</th>\n",
       "      <th>state</th>\n",
       "      <th>generation</th>\n",
       "      <th>dummy</th>\n",
       "      <th>area</th>\n",
       "      <th>major_axis_length</th>\n",
       "      <th>minor_axis_length</th>\n",
       "      <th>orientation</th>\n",
       "    </tr>\n",
       "  </thead>\n",
       "  <tbody>\n",
       "    <tr>\n",
       "      <th>0</th>\n",
       "      <td>1</td>\n",
       "      <td>0</td>\n",
       "      <td>517.573657</td>\n",
       "      <td>9.072790</td>\n",
       "      <td>0.0</td>\n",
       "      <td>1</td>\n",
       "      <td>1</td>\n",
       "      <td>5</td>\n",
       "      <td>0</td>\n",
       "      <td>False</td>\n",
       "      <td>577</td>\n",
       "      <td>33.260603</td>\n",
       "      <td>22.856213</td>\n",
       "      <td>1.455708</td>\n",
       "    </tr>\n",
       "    <tr>\n",
       "      <th>1</th>\n",
       "      <td>1</td>\n",
       "      <td>1</td>\n",
       "      <td>514.059829</td>\n",
       "      <td>5.558405</td>\n",
       "      <td>0.0</td>\n",
       "      <td>1</td>\n",
       "      <td>1</td>\n",
       "      <td>5</td>\n",
       "      <td>0</td>\n",
       "      <td>False</td>\n",
       "      <td>351</td>\n",
       "      <td>31.504513</td>\n",
       "      <td>14.848252</td>\n",
       "      <td>1.544199</td>\n",
       "    </tr>\n",
       "    <tr>\n",
       "      <th>2</th>\n",
       "      <td>1</td>\n",
       "      <td>2</td>\n",
       "      <td>514.871795</td>\n",
       "      <td>0.743590</td>\n",
       "      <td>0.0</td>\n",
       "      <td>1</td>\n",
       "      <td>1</td>\n",
       "      <td>5</td>\n",
       "      <td>0</td>\n",
       "      <td>False</td>\n",
       "      <td>39</td>\n",
       "      <td>17.121678</td>\n",
       "      <td>3.087591</td>\n",
       "      <td>1.553843</td>\n",
       "    </tr>\n",
       "    <tr>\n",
       "      <th>3</th>\n",
       "      <td>1</td>\n",
       "      <td>3</td>\n",
       "      <td>517.500000</td>\n",
       "      <td>0.000000</td>\n",
       "      <td>0.0</td>\n",
       "      <td>1</td>\n",
       "      <td>1</td>\n",
       "      <td>5</td>\n",
       "      <td>0</td>\n",
       "      <td>False</td>\n",
       "      <td>4</td>\n",
       "      <td>4.472136</td>\n",
       "      <td>0.000000</td>\n",
       "      <td>1.570796</td>\n",
       "    </tr>\n",
       "  </tbody>\n",
       "</table>"
      ],
      "text/plain": [
       "OrderedDict([('ID', 1), ('t', [0, 1, 2, 3]), ('x', [517.5736568457539, 514.0598290598291, 514.8717948717949, 517.5]), ('y', [9.072790294627383, 5.5584045584045585, 0.7435897435897436, 0.0]), ('z', [0.0, 0.0, 0.0, 0.0]), ('parent', 1), ('root', 1), ('state', [5, 5, 5, 5]), ('generation', 0), ('dummy', [False, False, False, False]), ('area', array([577, 351,  39,   4])), ('major_axis_length', array([33.2606027 , 31.50451336, 17.12167799,  4.47213595])), ('minor_axis_length', array([22.8562132 , 14.84825233,  3.08759104,  0.        ])), ('orientation', array([1.45570771, 1.54419882, 1.55384298, 1.57079633]))])"
      ]
     },
     "execution_count": 16,
     "metadata": {},
     "output_type": "execute_result"
    }
   ],
   "source": [
    "tracks[0]"
   ]
  },
  {
   "cell_type": "markdown",
   "id": "54a87f0a",
   "metadata": {},
   "source": [
    "### Export the configuration"
   ]
  },
  {
   "cell_type": "code",
   "execution_count": 17,
   "id": "b4383997",
   "metadata": {},
   "outputs": [],
   "source": [
    "btrack.config.save_config(\"test_config.json\", cfg)"
   ]
  },
  {
   "cell_type": "markdown",
   "id": "191c153e",
   "metadata": {},
   "source": [
    "### Reload the saved track data"
   ]
  },
  {
   "cell_type": "code",
   "execution_count": 18,
   "id": "64899259",
   "metadata": {},
   "outputs": [
    {
     "name": "stderr",
     "output_type": "stream",
     "text": [
      "[INFO][2022/05/17 07:06:44 PM] Opening HDF file: tracks.h5...\n",
      "[INFO][2022/05/17 07:06:44 PM] Loading tracks/obj_type_1\n",
      "[INFO][2022/05/17 07:06:44 PM] Loading objects/obj_type_1 (52581, 5) (52581 filtered: None)\n",
      "[INFO][2022/05/17 07:06:45 PM] Closing HDF file: tracks.h5\n"
     ]
    }
   ],
   "source": [
    "with btrack.dataio.HDF5FileHandler(\"tracks.h5\", \"r\", obj_type=\"obj_type_1\") as hdf:\n",
    "    new_tracks = hdf.tracks\n",
    "    new_data, new_properties, new_graph = btrack.utils.tracks_to_napari(new_tracks, ndim=2)"
   ]
  },
  {
   "cell_type": "markdown",
   "id": "8160cd0e",
   "metadata": {},
   "source": [
    "## Visualising the data with napari"
   ]
  },
  {
   "cell_type": "markdown",
   "id": "0f544669",
   "metadata": {},
   "source": [
    "Finally, we an inspect the entire tracking output using *napari*:"
   ]
  },
  {
   "cell_type": "code",
   "execution_count": 22,
   "id": "6a87d830",
   "metadata": {},
   "outputs": [
    {
     "data": {
      "text/plain": [
       "<Tracks layer 'Tracks' at 0x17bbb05b0>"
      ]
     },
     "execution_count": 22,
     "metadata": {},
     "output_type": "execute_result"
    }
   ],
   "source": [
    "import napari\n",
    "\n",
    "viewer = napari.Viewer()\n",
    "\n",
    "viewer.add_image(\n",
    "    segmentation, \n",
    "    name=\"Segmentation\",\n",
    "    opacity=0.2,\n",
    ")\n",
    "\n",
    "# the track data from the tracker\n",
    "viewer.add_tracks(\n",
    "    data, \n",
    "    properties=properties, \n",
    "    graph=graph, \n",
    "    name=\"Tracks\", \n",
    "    blending=\"translucent\",\n",
    ")\n",
    "\n",
    "# # the track data reconstructed from the exported HDF file\n",
    "# viewer.add_tracks(\n",
    "#     new_data, \n",
    "#     properties=new_properties, \n",
    "#     graph=new_graph, \n",
    "#     name=\"Exported Tracks\", \n",
    "#     blending=\"translucent\",\n",
    "# )"
   ]
  },
  {
   "cell_type": "code",
   "execution_count": null,
   "id": "98515387",
   "metadata": {},
   "outputs": [],
   "source": []
  },
  {
   "cell_type": "code",
   "execution_count": 20,
   "id": "d896ee26",
   "metadata": {},
   "outputs": [
    {
     "data": {
      "text/plain": [
       "TrackerConfig(name='Default', version='0.4.3', verbose=True, motion_model=MotionModel(measurements=3, states=6, A=array([[1., 0., 0., 1., 0., 0.],\n",
       "       [0., 1., 0., 0., 1., 0.],\n",
       "       [0., 0., 1., 0., 0., 1.],\n",
       "       [0., 0., 0., 1., 0., 0.],\n",
       "       [0., 0., 0., 0., 1., 0.],\n",
       "       [0., 0., 0., 0., 0., 1.]]), H=array([[1., 0., 0., 0., 0., 0.],\n",
       "       [0., 1., 0., 0., 0., 0.],\n",
       "       [0., 0., 1., 0., 0., 0.]]), P=array([[ 15.,   0.,   0.,   0.,   0.,   0.],\n",
       "       [  0.,  15.,   0.,   0.,   0.,   0.],\n",
       "       [  0.,   0.,  15.,   0.,   0.,   0.],\n",
       "       [  0.,   0.,   0., 150.,   0.,   0.],\n",
       "       [  0.,   0.,   0.,   0., 150.,   0.],\n",
       "       [  0.,   0.,   0.,   0.,   0., 150.]]), R=array([[5., 0., 0.],\n",
       "       [0., 5., 0.],\n",
       "       [0., 0., 5.]]), G=array([[ 7.5,  7.5,  7.5, 15. , 15. , 15. ]]), Q=array([[ 56.25,  56.25,  56.25, 112.5 , 112.5 , 112.5 ],\n",
       "       [ 56.25,  56.25,  56.25, 112.5 , 112.5 , 112.5 ],\n",
       "       [ 56.25,  56.25,  56.25, 112.5 , 112.5 , 112.5 ],\n",
       "       [112.5 , 112.5 , 112.5 , 225.  , 225.  , 225.  ],\n",
       "       [112.5 , 112.5 , 112.5 , 225.  , 225.  , 225.  ],\n",
       "       [112.5 , 112.5 , 112.5 , 225.  , 225.  , 225.  ]]), dt=1.0, accuracy=7.5, max_lost=5, prob_not_assign=0.001, name='cell_motion'), object_model=None, hypothesis_model=HypothesisModel(hypotheses=['P_FP', 'P_init', 'P_term', 'P_link', 'P_branch', 'P_dead'], lambda_time=5.0, lambda_dist=3.0, lambda_link=10.0, lambda_branch=50.0, eta=1e-10, theta_dist=20.0, theta_time=5.0, dist_thresh=40.0, time_thresh=2.0, apop_thresh=5, segmentation_miss_rate=0.1, apoptosis_rate=0.001, relax=True, name='cell_hypothesis'), max_search_radius=50.0, return_kalman=False, volume=ImagingVolume(x=(0.0, 1600.0), y=(0.0, 1200.0), z=None), update_method=<BayesianUpdates.EXACT: 0>, optimizer_options={'tm_lim': 60000}, features=['area', 'major_axis_length', 'minor_axis_length', 'orientation'])"
      ]
     },
     "execution_count": 20,
     "metadata": {},
     "output_type": "execute_result"
    }
   ],
   "source": [
    "cfg"
   ]
  }
 ],
 "metadata": {
  "kernelspec": {
   "display_name": "Python [conda env:napari]",
   "language": "python",
   "name": "conda-env-napari-py"
  },
  "language_info": {
   "codemirror_mode": {
    "name": "ipython",
    "version": 3
   },
   "file_extension": ".py",
   "mimetype": "text/x-python",
   "name": "python",
   "nbconvert_exporter": "python",
   "pygments_lexer": "ipython3",
   "version": "3.9.9"
  }
 },
 "nbformat": 4,
 "nbformat_minor": 5
}
